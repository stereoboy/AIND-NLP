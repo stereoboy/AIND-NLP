{
 "cells": [
  {
   "cell_type": "markdown",
   "metadata": {},
   "source": [
    "# Text Processing\n",
    "\n",
    "## Capturing Text Data\n",
    "\n",
    "### Plain Text"
   ]
  },
  {
   "cell_type": "code",
   "execution_count": 1,
   "metadata": {},
   "outputs": [],
   "source": [
    "import os\n",
    "\n",
    "# Read in a plain text file\n",
    "with open(os.path.join(\"data\", \"hieroglyph.txt\"), \"r\") as f:\n",
    "    text = f.read()\n",
    "    print(text)"
   ]
  },
  {
   "cell_type": "markdown",
   "metadata": {},
   "source": [
    "### Tabular Data"
   ]
  },
  {
   "cell_type": "code",
   "execution_count": 2,
   "metadata": {
    "scrolled": true
   },
   "outputs": [
    {
     "data": {
      "text/html": [
       "<div>\n",
       "<style scoped>\n",
       "    .dataframe tbody tr th:only-of-type {\n",
       "        vertical-align: middle;\n",
       "    }\n",
       "\n",
       "    .dataframe tbody tr th {\n",
       "        vertical-align: top;\n",
       "    }\n",
       "\n",
       "    .dataframe thead th {\n",
       "        text-align: right;\n",
       "    }\n",
       "</style>\n",
       "<table border=\"1\" class=\"dataframe\">\n",
       "  <thead>\n",
       "    <tr style=\"text-align: right;\">\n",
       "      <th></th>\n",
       "      <th>publisher</th>\n",
       "      <th>title</th>\n",
       "    </tr>\n",
       "  </thead>\n",
       "  <tbody>\n",
       "    <tr>\n",
       "      <th>0</th>\n",
       "      <td>Livemint</td>\n",
       "      <td>fed's charles plosser sees high bar for change...</td>\n",
       "    </tr>\n",
       "    <tr>\n",
       "      <th>1</th>\n",
       "      <td>IFA Magazine</td>\n",
       "      <td>us open: stocks fall after fed official hints ...</td>\n",
       "    </tr>\n",
       "    <tr>\n",
       "      <th>2</th>\n",
       "      <td>IFA Magazine</td>\n",
       "      <td>fed risks falling 'behind the curve', charles ...</td>\n",
       "    </tr>\n",
       "    <tr>\n",
       "      <th>3</th>\n",
       "      <td>Moneynews</td>\n",
       "      <td>fed's plosser: nasty weather has curbed job gr...</td>\n",
       "    </tr>\n",
       "    <tr>\n",
       "      <th>4</th>\n",
       "      <td>NASDAQ</td>\n",
       "      <td>plosser: fed may have to accelerate tapering pace</td>\n",
       "    </tr>\n",
       "  </tbody>\n",
       "</table>\n",
       "</div>"
      ],
      "text/plain": [
       "      publisher                                              title\n",
       "0      Livemint  fed's charles plosser sees high bar for change...\n",
       "1  IFA Magazine  us open: stocks fall after fed official hints ...\n",
       "2  IFA Magazine  fed risks falling 'behind the curve', charles ...\n",
       "3     Moneynews  fed's plosser: nasty weather has curbed job gr...\n",
       "4        NASDAQ  plosser: fed may have to accelerate tapering pace"
      ]
     },
     "execution_count": 2,
     "metadata": {},
     "output_type": "execute_result"
    }
   ],
   "source": [
    "import pandas as pd\n",
    "\n",
    "# Extract text column from a dataframe\n",
    "df = pd.read_csv(os.path.join(\"data\", \"news.csv\"))\n",
    "df.head()[['publisher', 'title']]\n",
    "\n",
    "# Convert text column to lowercase\n",
    "df['title'] = df['title'].str.lower()\n",
    "df.head()[['publisher', 'title']]"
   ]
  },
  {
   "cell_type": "markdown",
   "metadata": {},
   "source": [
    "### Online Resource"
   ]
  },
  {
   "cell_type": "code",
   "execution_count": 3,
   "metadata": {
    "scrolled": true
   },
   "outputs": [
    {
     "name": "stdout",
     "output_type": "stream",
     "text": [
      "{\n",
      "    \"success\": {\n",
      "        \"total\": 1\n",
      "    },\n",
      "    \"contents\": {\n",
      "        \"quotes\": [\n",
      "            {\n",
      "                \"quote\": \"He who is not courageous enough to take risks will accomplish nothing in life.\",\n",
      "                \"length\": \"78\",\n",
      "                \"author\": \"Mohamad Ali\",\n",
      "                \"tags\": [\n",
      "                    \"courage\",\n",
      "                    \"inspire\",\n",
      "                    \"risk\"\n",
      "                ],\n",
      "                \"category\": \"inspire\",\n",
      "                \"language\": \"en\",\n",
      "                \"date\": \"2020-03-01\",\n",
      "                \"permalink\": \"https://theysaidso.com/quote/mohamad-ali-he-who-is-not-courageous-enough-to-take-risks-will-accomplish-nothin\",\n",
      "                \"id\": \"ifuqTGVbNWPSJIzhrGQakQeF\",\n",
      "                \"background\": \"https://theysaidso.com/img/qod/qod-inspire.jpg\",\n",
      "                \"title\": \"Inspiring Quote of the day\"\n",
      "            }\n",
      "        ]\n",
      "    },\n",
      "    \"baseurl\": \"https://theysaidso.com\",\n",
      "    \"copyright\": {\n",
      "        \"year\": 2022,\n",
      "        \"url\": \"https://theysaidso.com\"\n",
      "    }\n",
      "}\n",
      "He who is not courageous enough to take risks will accomplish nothing in life. \n",
      "-- Mohamad Ali\n"
     ]
    }
   ],
   "source": [
    "import requests\n",
    "import json\n",
    "\n",
    "# Fetch data from a REST API\n",
    "r = requests.get(\n",
    "    \"https://quotes.rest/qod.json\")\n",
    "res = r.json()\n",
    "print(json.dumps(res, indent=4))\n",
    "\n",
    "# Extract relevant object and field\n",
    "q = res[\"contents\"][\"quotes\"][0]\n",
    "print(q[\"quote\"], \"\\n--\", q[\"author\"])"
   ]
  },
  {
   "cell_type": "markdown",
   "metadata": {},
   "source": [
    "## Cleaning"
   ]
  },
  {
   "cell_type": "code",
   "execution_count": 4,
   "metadata": {
    "scrolled": true
   },
   "outputs": [
    {
     "name": "stdout",
     "output_type": "stream",
     "text": [
      "<html op=\"news\"><head><meta name=\"referrer\" content=\"origin\"><meta name=\"viewport\" content=\"width=device-width, initial-scale=1.0\"><link rel=\"stylesheet\" type=\"text/css\" href=\"news.css?JIu4ETXPPhCQtzUAXVsQ\">\n",
      "        <link rel=\"shortcut icon\" href=\"favicon.ico\">\n",
      "          <link rel=\"alternate\" type=\"application/rss+xml\" title=\"RSS\" href=\"rss\">\n",
      "        <title>Hacker News</title></head><body><center><table id=\"hnmain\" border=\"0\" cellpadding=\"0\" cellspacing=\"0\" width=\"85%\" bgcolor=\"#f6f6ef\">\n",
      "        <tr><td bgcolor=\"#ff6600\"><table border=\"0\" cellpadding=\"0\" cellspacing=\"0\" width=\"100%\" style=\"padding:2px\"><tr><td style=\"width:18px;padding-right:4px\"><a href=\"https://news.ycombinator.com\"><img src=\"y18.gif\" width=\"18\" height=\"18\" style=\"border:1px white solid;\"></a></td>\n",
      "                  <td style=\"line-height:12pt; height:10px;\"><span class=\"pagetop\"><b class=\"hnname\"><a href=\"news\">Hacker News</a></b>\n",
      "              <a href=\"newest\">new</a> | <a href=\"front\">past</a> | <a href=\"newcomments\">comments</a> | <a href=\"ask\">ask</a> | <a href=\"show\">show</a> | <a href=\"jobs\">jobs</a> | <a href=\"submit\">submit</a>            </span></td><td style=\"text-align:right;padding-right:4px;\"><span class=\"pagetop\">\n",
      "                              <a href=\"login?goto=news\">login</a>\n",
      "                          </span></td>\n",
      "              </tr></table></td></tr>\n",
      "<tr id=\"pagespace\" title=\"\" style=\"height:10px\"></tr><tr><td><table border=\"0\" cellpadding=\"0\" cellspacing=\"0\" class=\"itemlist\">\n",
      "              <tr class='athing' id='22454520'>\n",
      "      <td align=\"right\" valign=\"top\" class=\"title\"><span class=\"rank\">1.</span></td>      <td valign=\"top\" class=\"votelinks\"><center><a id='up_22454520' href='vote?id=22454520&amp;how=up&amp;goto=news'><div class='votearrow' title='upvote'></div></a></center></td><td class=\"title\"><a href=\"https://blog.wesleyac.com/posts/google-analytics\" class=\"storylink\">How many users block Google analytics? (2017)</a><span class=\"sitebit comhead\"> (<a href=\"from?site=wesleyac.com\"><span class=\"sitestr\">wesleyac.com</span></a>)</span></td></tr><tr><td colspan=\"2\"></td><td class=\"subtext\">\n",
      "        <span class=\"score\" id=\"score_22454520\">113 points</span> by <a href=\"user?id=luu\" class=\"hnuser\">luu</a> <span class=\"age\"><a href=\"item?id=22454520\">3 hours ago</a></span> <span id=\"unv_22454520\"></span> | <a href=\"hide?id=22454520&amp;goto=news\">hide</a> | <a href=\"item?id=22454520\">83&nbsp;comments</a>              </td></tr>\n",
      "      <tr class=\"spacer\" style=\"height:5px\"></tr>\n",
      "                <tr class='athing' id='22454333'>\n",
      "      <td align=\"right\" valign=\"top\" class=\"title\"><span class=\"rank\">2.</span></td>      <td valign=\"top\" class=\"votelinks\"><center><a id='up_22454333' href='vote?id=22454333&amp;how=up&amp;goto=news'><div class='votearrow' title='upvote'></div></a></center></td><td class=\"title\"><a href=\"item?id=22454333\" class=\"storylink\">Ask HN: Good ways to capture institutional knowledge?</a></td></tr><tr><td colspan=\"2\"></td><td class=\"subtext\">\n",
      "        <span class=\"score\" id=\"score_22454333\">72 points</span> by <a href=\"user?id=alhirzel\" class=\"hnuser\">alhirzel</a> <span class=\"age\"><a href=\"item?id=22454333\">3 hours ago</a></span> <span id=\"unv_22454333\"></span> | <a href=\"hide?id=22454333&amp;goto=news\">hide</a> | <a href=\"item?id=22454333\">34&nbsp;comments</a>              </td></tr>\n",
      "      <tr class=\"spacer\" style=\"height:5px\"></tr>\n",
      "                <tr class='athing' id='22453092'>\n",
      "      <td align=\"right\" valign=\"top\" class=\"title\"><span class=\"rank\">3.</span></td>      <td valign=\"top\" class=\"votelinks\"><center><a id='up_22453092' href='vote?id=22453092&amp;how=up&amp;goto=news'><div class='votearrow' title='upvote'></div></a></center></td><td class=\"title\"><a href=\"https://fuse.wikichip.org/news/3352/intel-refreshes-2nd-gen-xeon-scalable-slashes-prices/\" class=\"storylink\">Intel Refreshes 2nd Gen Xeon Scalable, Slashes Prices</a><span class=\"sitebit comhead\"> (<a href=\"from?site=wikichip.org\"><span class=\"sitestr\">wikichip.org</span></a>)</span></td></tr><tr><td colspan=\"2\"></td><td class=\"subtext\">\n",
      "        <span class=\"score\" id=\"score_22453092\">108 points</span> by <a href=\"user?id=rbanffy\" class=\"hnuser\">rbanffy</a> <span class=\"age\"><a href=\"item?id=22453092\">7 hours ago</a></span> <span id=\"unv_22453092\"></span> | <a href=\"hide?id=22453092&amp;goto=news\">hide</a> | <a href=\"item?id=22453092\">76&nbsp;comments</a>              </td></tr>\n",
      "      <tr class=\"spacer\" style=\"height:5px\"></tr>\n",
      "                <tr class='athing' id='22452065'>\n",
      "      <td align=\"right\" valign=\"top\" class=\"title\"><span class=\"rank\">4.</span></td>      <td valign=\"top\" class=\"votelinks\"><center><a id='up_22452065' href='vote?id=22452065&amp;how=up&amp;goto=news'><div class='votearrow' title='upvote'></div></a></center></td><td class=\"title\"><a href=\"https://codeofmatt.com/list-of-2020-leap-day-bugs/\" class=\"storylink\">2020 Leap Day Bugs</a><span class=\"sitebit comhead\"> (<a href=\"from?site=codeofmatt.com\"><span class=\"sitestr\">codeofmatt.com</span></a>)</span></td></tr><tr><td colspan=\"2\"></td><td class=\"subtext\">\n",
      "        <span class=\"score\" id=\"score_22452065\">200 points</span> by <a href=\"user?id=mj1586\" class=\"hnuser\">mj1586</a> <span class=\"age\"><a href=\"item?id=22452065\">10 hours ago</a></span> <span id=\"unv_22452065\"></span> | <a href=\"hide?id=22452065&amp;goto=news\">hide</a> | <a href=\"item?id=22452065\">108&nbsp;comments</a>              </td></tr>\n",
      "      <tr class=\"spacer\" style=\"height:5px\"></tr>\n",
      "                <tr class='athing' id='22442479'>\n",
      "      <td align=\"right\" valign=\"top\" class=\"title\"><span class=\"rank\">5.</span></td>      <td valign=\"top\" class=\"votelinks\"><center><a id='up_22442479' href='vote?id=22442479&amp;how=up&amp;goto=news'><div class='votearrow' title='upvote'></div></a></center></td><td class=\"title\"><a href=\"https://www.wired.com/story/inaturalist-app-disconnection/\" class=\"storylink\">iNaturalist is a social network of people helping each other learn about nature</a><span class=\"sitebit comhead\"> (<a href=\"from?site=wired.com\"><span class=\"sitestr\">wired.com</span></a>)</span></td></tr><tr><td colspan=\"2\"></td><td class=\"subtext\">\n",
      "        <span class=\"score\" id=\"score_22442479\">180 points</span> by <a href=\"user?id=SirLJ\" class=\"hnuser\">SirLJ</a> <span class=\"age\"><a href=\"item?id=22442479\">12 hours ago</a></span> <span id=\"unv_22442479\"></span> | <a href=\"hide?id=22442479&amp;goto=news\">hide</a> | <a href=\"item?id=22442479\">37&nbsp;comments</a>              </td></tr>\n",
      "      <tr class=\"spacer\" style=\"height:5px\"></tr>\n",
      "                <tr class='athing' id='22449939'>\n",
      "      <td align=\"right\" valign=\"top\" class=\"title\"><span class=\"rank\">6.</span></td>      <td valign=\"top\" class=\"votelinks\"><center><a id='up_22449939' href='vote?id=22449939&amp;how=up&amp;goto=news'><div class='votearrow' title='upvote'></div></a></center></td><td class=\"title\"><a href=\"https://padiracinnovation.org/News/2020/02/two-epigenetic-regulators-interfere-with-healthy-aging\" class=\"storylink\">Two epigenetic regulators interfere with healthy aging</a><span class=\"sitebit comhead\"> (<a href=\"from?site=padiracinnovation.org\"><span class=\"sitestr\">padiracinnovation.org</span></a>)</span></td></tr><tr><td colspan=\"2\"></td><td class=\"subtext\">\n",
      "        <span class=\"score\" id=\"score_22449939\">95 points</span> by <a href=\"user?id=JPLeRouzic\" class=\"hnuser\">JPLeRouzic</a> <span class=\"age\"><a href=\"item?id=22449939\">8 hours ago</a></span> <span id=\"unv_22449939\"></span> | <a href=\"hide?id=22449939&amp;goto=news\">hide</a> | <a href=\"item?id=22449939\">8&nbsp;comments</a>              </td></tr>\n",
      "      <tr class=\"spacer\" style=\"height:5px\"></tr>\n",
      "                <tr class='athing' id='22452961'>\n",
      "      <td align=\"right\" valign=\"top\" class=\"title\"><span class=\"rank\">7.</span></td>      <td valign=\"top\" class=\"votelinks\"><center><a id='up_22452961' href='vote?id=22452961&amp;how=up&amp;goto=news'><div class='votearrow' title='upvote'></div></a></center></td><td class=\"title\"><a href=\"https://phys.org/news/2020-02-physicists-individual-atoms-groundbreaking.html\" class=\"storylink\">Physicists grab individual atoms in groundbreaking experiment</a><span class=\"sitebit comhead\"> (<a href=\"from?site=phys.org\"><span class=\"sitestr\">phys.org</span></a>)</span></td></tr><tr><td colspan=\"2\"></td><td class=\"subtext\">\n",
      "        <span class=\"score\" id=\"score_22452961\">59 points</span> by <a href=\"user?id=magoghm\" class=\"hnuser\">magoghm</a> <span class=\"age\"><a href=\"item?id=22452961\">7 hours ago</a></span> <span id=\"unv_22452961\"></span> | <a href=\"hide?id=22452961&amp;goto=news\">hide</a> | <a href=\"item?id=22452961\">14&nbsp;comments</a>              </td></tr>\n",
      "      <tr class=\"spacer\" style=\"height:5px\"></tr>\n",
      "                <tr class='athing' id='22451568'>\n",
      "      <td align=\"right\" valign=\"top\" class=\"title\"><span class=\"rank\">8.</span></td>      <td valign=\"top\" class=\"votelinks\"><center><a id='up_22451568' href='vote?id=22451568&amp;how=up&amp;goto=news'><div class='votearrow' title='upvote'></div></a></center></td><td class=\"title\"><a href=\"https://edtr.io\" class=\"storylink\">Show HN: Edtr.io – Intuitive web editor, open source and fully adaptable</a><span class=\"sitebit comhead\"> (<a href=\"from?site=edtr.io\"><span class=\"sitestr\">edtr.io</span></a>)</span></td></tr><tr><td colspan=\"2\"></td><td class=\"subtext\">\n",
      "        <span class=\"score\" id=\"score_22451568\">148 points</span> by <a href=\"user?id=SplishCrew\" class=\"hnuser\">SplishCrew</a> <span class=\"age\"><a href=\"item?id=22451568\">11 hours ago</a></span> <span id=\"unv_22451568\"></span> | <a href=\"hide?id=22451568&amp;goto=news\">hide</a> | <a href=\"item?id=22451568\">45&nbsp;comments</a>              </td></tr>\n",
      "      <tr class=\"spacer\" style=\"height:5px\"></tr>\n",
      "                <tr class='athing' id='22451959'>\n",
      "      <td align=\"right\" valign=\"top\" class=\"title\"><span class=\"rank\">9.</span></td>      <td valign=\"top\" class=\"votelinks\"><center><a id='up_22451959' href='vote?id=22451959&amp;how=up&amp;goto=news'><div class='votearrow' title='upvote'></div></a></center></td><td class=\"title\"><a href=\"https://eli.thegreenplace.net/2020/implementing-raft-part-2-commands-and-log-replication/\" class=\"storylink\">Implementing Raft: Part 2: Commands and Log Replication</a><span class=\"sitebit comhead\"> (<a href=\"from?site=thegreenplace.net\"><span class=\"sitestr\">thegreenplace.net</span></a>)</span></td></tr><tr><td colspan=\"2\"></td><td class=\"subtext\">\n",
      "        <span class=\"score\" id=\"score_22451959\">49 points</span> by <a href=\"user?id=ingve\" class=\"hnuser\">ingve</a> <span class=\"age\"><a href=\"item?id=22451959\">6 hours ago</a></span> <span id=\"unv_22451959\"></span> | <a href=\"hide?id=22451959&amp;goto=news\">hide</a> | <a href=\"item?id=22451959\">4&nbsp;comments</a>              </td></tr>\n",
      "      <tr class=\"spacer\" style=\"height:5px\"></tr>\n",
      "                <tr class='athing' id='22452343'>\n",
      "      <td align=\"right\" valign=\"top\" class=\"title\"><span class=\"rank\">10.</span></td>      <td valign=\"top\" class=\"votelinks\"><center><a id='up_22452343' href='vote?id=22452343&amp;how=up&amp;goto=news'><div class='votearrow' title='upvote'></div></a></center></td><td class=\"title\"><a href=\"https://medium.com/@matteocroce/why-you-should-run-a-64-bit-os-on-your-raspberry-pi4-bd5290d48947\" class=\"storylink\">64 bit OS Raspberry Pi4 Benchmarks</a><span class=\"sitebit comhead\"> (<a href=\"from?site=medium.com\"><span class=\"sitestr\">medium.com</span></a>)</span></td></tr><tr><td colspan=\"2\"></td><td class=\"subtext\">\n",
      "        <span class=\"score\" id=\"score_22452343\">133 points</span> by <a href=\"user?id=tosh\" class=\"hnuser\">tosh</a> <span class=\"age\"><a href=\"item?id=22452343\">9 hours ago</a></span> <span id=\"unv_22452343\"></span> | <a href=\"hide?id=22452343&amp;goto=news\">hide</a> | <a href=\"item?id=22452343\">51&nbsp;comments</a>              </td></tr>\n",
      "      <tr class=\"spacer\" style=\"height:5px\"></tr>\n",
      "                <tr class='athing' id='22454115'>\n",
      "      <td align=\"right\" valign=\"top\" class=\"title\"><span class=\"rank\">11.</span></td>      <td valign=\"top\" class=\"votelinks\"><center><a id='up_22454115' href='vote?id=22454115&amp;how=up&amp;goto=news'><div class='votearrow' title='upvote'></div></a></center></td><td class=\"title\"><a href=\"https://altkomsoftware.pl/blog/flutter-dart-quickly-build-mobile-app-without-losing-much-hair/\" class=\"storylink\">Flutter and Dart, or how to quickly build a mobile app without losing your hair</a><span class=\"sitebit comhead\"> (<a href=\"from?site=altkomsoftware.pl\"><span class=\"sitestr\">altkomsoftware.pl</span></a>)</span></td></tr><tr><td colspan=\"2\"></td><td class=\"subtext\">\n",
      "        <span class=\"score\" id=\"score_22454115\">123 points</span> by <a href=\"user?id=witek1902\" class=\"hnuser\">witek1902</a> <span class=\"age\"><a href=\"item?id=22454115\">4 hours ago</a></span> <span id=\"unv_22454115\"></span> | <a href=\"hide?id=22454115&amp;goto=news\">hide</a> | <a href=\"item?id=22454115\">61&nbsp;comments</a>              </td></tr>\n",
      "      <tr class=\"spacer\" style=\"height:5px\"></tr>\n",
      "                <tr class='athing' id='22451415'>\n",
      "      <td align=\"right\" valign=\"top\" class=\"title\"><span class=\"rank\">12.</span></td>      <td valign=\"top\" class=\"votelinks\"><center><a id='up_22451415' href='vote?id=22451415&amp;how=up&amp;goto=news'><div class='votearrow' title='upvote'></div></a></center></td><td class=\"title\"><a href=\"https://threadreaderapp.com/thread/1233569586332618752.html\" class=\"storylink\">Manuals and guides for startups</a><span class=\"sitebit comhead\"> (<a href=\"from?site=threadreaderapp.com\"><span class=\"sitestr\">threadreaderapp.com</span></a>)</span></td></tr><tr><td colspan=\"2\"></td><td class=\"subtext\">\n",
      "        <span class=\"score\" id=\"score_22451415\">104 points</span> by <a href=\"user?id=mooreds\" class=\"hnuser\">mooreds</a> <span class=\"age\"><a href=\"item?id=22451415\">12 hours ago</a></span> <span id=\"unv_22451415\"></span> | <a href=\"hide?id=22451415&amp;goto=news\">hide</a> | <a href=\"item?id=22451415\">4&nbsp;comments</a>              </td></tr>\n",
      "      <tr class=\"spacer\" style=\"height:5px\"></tr>\n",
      "                <tr class='athing' id='22435845'>\n",
      "      <td align=\"right\" valign=\"top\" class=\"title\"><span class=\"rank\">13.</span></td>      <td valign=\"top\" class=\"votelinks\"><center><a id='up_22435845' href='vote?id=22435845&amp;how=up&amp;goto=news'><div class='votearrow' title='upvote'></div></a></center></td><td class=\"title\"><a href=\"https://quillette.com/2020/02/27/the-two-middle-classes/\" class=\"storylink\">The Two Middle Classes</a><span class=\"sitebit comhead\"> (<a href=\"from?site=quillette.com\"><span class=\"sitestr\">quillette.com</span></a>)</span></td></tr><tr><td colspan=\"2\"></td><td class=\"subtext\">\n",
      "        <span class=\"score\" id=\"score_22435845\">107 points</span> by <a href=\"user?id=paulpauper\" class=\"hnuser\">paulpauper</a> <span class=\"age\"><a href=\"item?id=22435845\">6 hours ago</a></span> <span id=\"unv_22435845\"></span> | <a href=\"hide?id=22435845&amp;goto=news\">hide</a> | <a href=\"item?id=22435845\">58&nbsp;comments</a>              </td></tr>\n",
      "      <tr class=\"spacer\" style=\"height:5px\"></tr>\n",
      "                <tr class='athing' id='22447426'>\n",
      "      <td align=\"right\" valign=\"top\" class=\"title\"><span class=\"rank\">14.</span></td>      <td valign=\"top\" class=\"votelinks\"><center><a id='up_22447426' href='vote?id=22447426&amp;how=up&amp;goto=news'><div class='votearrow' title='upvote'></div></a></center></td><td class=\"title\"><a href=\"https://arxiv.org/abs/1905.10615\" class=\"storylink\">Adversarial Policies: Attacking Deep Reinforcement Learning</a><span class=\"sitebit comhead\"> (<a href=\"from?site=arxiv.org\"><span class=\"sitestr\">arxiv.org</span></a>)</span></td></tr><tr><td colspan=\"2\"></td><td class=\"subtext\">\n",
      "        <span class=\"score\" id=\"score_22447426\">56 points</span> by <a href=\"user?id=magoghm\" class=\"hnuser\">magoghm</a> <span class=\"age\"><a href=\"item?id=22447426\">9 hours ago</a></span> <span id=\"unv_22447426\"></span> | <a href=\"hide?id=22447426&amp;goto=news\">hide</a> | <a href=\"item?id=22447426\">6&nbsp;comments</a>              </td></tr>\n",
      "      <tr class=\"spacer\" style=\"height:5px\"></tr>\n",
      "                <tr class='athing' id='22452363'>\n",
      "      <td align=\"right\" valign=\"top\" class=\"title\"><span class=\"rank\">15.</span></td>      <td valign=\"top\" class=\"votelinks\"><center><a id='up_22452363' href='vote?id=22452363&amp;how=up&amp;goto=news'><div class='votearrow' title='upvote'></div></a></center></td><td class=\"title\"><a href=\"https://github.com/chonyy/handoff-visualizer\" class=\"storylink\">Show HN: Visualizing the transmission between you and base stations</a><span class=\"sitebit comhead\"> (<a href=\"from?site=github.com\"><span class=\"sitestr\">github.com</span></a>)</span></td></tr><tr><td colspan=\"2\"></td><td class=\"subtext\">\n",
      "        <span class=\"score\" id=\"score_22452363\">53 points</span> by <a href=\"user?id=chony\" class=\"hnuser\">chony</a> <span class=\"age\"><a href=\"item?id=22452363\">9 hours ago</a></span> <span id=\"unv_22452363\"></span> | <a href=\"hide?id=22452363&amp;goto=news\">hide</a> | <a href=\"item?id=22452363\">6&nbsp;comments</a>              </td></tr>\n",
      "      <tr class=\"spacer\" style=\"height:5px\"></tr>\n",
      "                <tr class='athing' id='22452712'>\n",
      "      <td align=\"right\" valign=\"top\" class=\"title\"><span class=\"rank\">16.</span></td>      <td valign=\"top\" class=\"votelinks\"><center><a id='up_22452712' href='vote?id=22452712&amp;how=up&amp;goto=news'><div class='votearrow' title='upvote'></div></a></center></td><td class=\"title\"><a href=\"https://putanumonit.com/2020/02/27/seeing-the-smoke/\" class=\"storylink\">Seeing the Smoke</a><span class=\"sitebit comhead\"> (<a href=\"from?site=putanumonit.com\"><span class=\"sitestr\">putanumonit.com</span></a>)</span></td></tr><tr><td colspan=\"2\"></td><td class=\"subtext\">\n",
      "        <span class=\"score\" id=\"score_22452712\">46 points</span> by <a href=\"user?id=ctoth\" class=\"hnuser\">ctoth</a> <span class=\"age\"><a href=\"item?id=22452712\">3 hours ago</a></span> <span id=\"unv_22452712\"></span> | <a href=\"hide?id=22452712&amp;goto=news\">hide</a> | <a href=\"item?id=22452712\">10&nbsp;comments</a>              </td></tr>\n",
      "      <tr class=\"spacer\" style=\"height:5px\"></tr>\n",
      "                <tr class='athing' id='22453402'>\n",
      "      <td align=\"right\" valign=\"top\" class=\"title\"><span class=\"rank\">17.</span></td>      <td valign=\"top\" class=\"votelinks\"><center><a id='up_22453402' href='vote?id=22453402&amp;how=up&amp;goto=news'><div class='votearrow' title='upvote'></div></a></center></td><td class=\"title\"><a href=\"https://www.buzzfeednews.com/article/loganmcdonald/apple-clearview-app-violates-tos-supension\" class=\"storylink\">Apple Just Disabled Clearview AI's iPhone App for Breaking Rules on Distribution</a><span class=\"sitebit comhead\"> (<a href=\"from?site=buzzfeednews.com\"><span class=\"sitestr\">buzzfeednews.com</span></a>)</span></td></tr><tr><td colspan=\"2\"></td><td class=\"subtext\">\n",
      "        <span class=\"score\" id=\"score_22453402\">153 points</span> by <a href=\"user?id=jbegley\" class=\"hnuser\">jbegley</a> <span class=\"age\"><a href=\"item?id=22453402\">6 hours ago</a></span> <span id=\"unv_22453402\"></span> | <a href=\"hide?id=22453402&amp;goto=news\">hide</a> | <a href=\"item?id=22453402\">100&nbsp;comments</a>              </td></tr>\n",
      "      <tr class=\"spacer\" style=\"height:5px\"></tr>\n",
      "                <tr class='athing' id='22451657'>\n",
      "      <td align=\"right\" valign=\"top\" class=\"title\"><span class=\"rank\">18.</span></td>      <td valign=\"top\" class=\"votelinks\"><center><a id='up_22451657' href='vote?id=22451657&amp;how=up&amp;goto=news'><div class='votearrow' title='upvote'></div></a></center></td><td class=\"title\"><a href=\"https://billwadge.wordpress.com/2020/02/29/branching-time-iteration/\" class=\"storylink\">Branching Time Iteration</a><span class=\"sitebit comhead\"> (<a href=\"from?site=billwadge.wordpress.com\"><span class=\"sitestr\">billwadge.wordpress.com</span></a>)</span></td></tr><tr><td colspan=\"2\"></td><td class=\"subtext\">\n",
      "        <span class=\"score\" id=\"score_22451657\">20 points</span> by <a href=\"user?id=herodotus\" class=\"hnuser\">herodotus</a> <span class=\"age\"><a href=\"item?id=22451657\">6 hours ago</a></span> <span id=\"unv_22451657\"></span> | <a href=\"hide?id=22451657&amp;goto=news\">hide</a> | <a href=\"item?id=22451657\">discuss</a>              </td></tr>\n",
      "      <tr class=\"spacer\" style=\"height:5px\"></tr>\n",
      "                <tr class='athing' id='22452945'>\n",
      "      <td align=\"right\" valign=\"top\" class=\"title\"><span class=\"rank\">19.</span></td>      <td valign=\"top\" class=\"votelinks\"><center><a id='up_22452945' href='vote?id=22452945&amp;how=up&amp;goto=news'><div class='votearrow' title='upvote'></div></a></center></td><td class=\"title\"><a href=\"https://pdfs.semanticscholar.org/a659/783579f4a19d7c11f4be91f46477ec1685a1.pdf\" class=\"storylink\">Complex-step differentiation and automatic differentiation (2001) [pdf]</a><span class=\"sitebit comhead\"> (<a href=\"from?site=semanticscholar.org\"><span class=\"sitestr\">semanticscholar.org</span></a>)</span></td></tr><tr><td colspan=\"2\"></td><td class=\"subtext\">\n",
      "        <span class=\"score\" id=\"score_22452945\">31 points</span> by <a href=\"user?id=aidanrocke\" class=\"hnuser\">aidanrocke</a> <span class=\"age\"><a href=\"item?id=22452945\">8 hours ago</a></span> <span id=\"unv_22452945\"></span> | <a href=\"hide?id=22452945&amp;goto=news\">hide</a> | <a href=\"item?id=22452945\">4&nbsp;comments</a>              </td></tr>\n",
      "      <tr class=\"spacer\" style=\"height:5px\"></tr>\n",
      "                <tr class='athing' id='22452306'>\n",
      "      <td align=\"right\" valign=\"top\" class=\"title\"><span class=\"rank\">20.</span></td>      <td valign=\"top\" class=\"votelinks\"><center><a id='up_22452306' href='vote?id=22452306&amp;how=up&amp;goto=news'><div class='votearrow' title='upvote'></div></a></center></td><td class=\"title\"><a href=\"https://www.wired.com/story/online-altruists-are-making-reddit-more-accessible/\" class=\"storylink\">Online altruists making Reddit more accessible</a><span class=\"sitebit comhead\"> (<a href=\"from?site=wired.com\"><span class=\"sitestr\">wired.com</span></a>)</span></td></tr><tr><td colspan=\"2\"></td><td class=\"subtext\">\n",
      "        <span class=\"score\" id=\"score_22452306\">33 points</span> by <a href=\"user?id=spost\" class=\"hnuser\">spost</a> <span class=\"age\"><a href=\"item?id=22452306\">9 hours ago</a></span> <span id=\"unv_22452306\"></span> | <a href=\"hide?id=22452306&amp;goto=news\">hide</a> | <a href=\"item?id=22452306\">27&nbsp;comments</a>              </td></tr>\n",
      "      <tr class=\"spacer\" style=\"height:5px\"></tr>\n",
      "                <tr class='athing' id='22447673'>\n",
      "      <td align=\"right\" valign=\"top\" class=\"title\"><span class=\"rank\">21.</span></td>      <td valign=\"top\" class=\"votelinks\"><center><a id='up_22447673' href='vote?id=22447673&amp;how=up&amp;goto=news'><div class='votearrow' title='upvote'></div></a></center></td><td class=\"title\"><a href=\"https://www.theatlantic.com/technology/archive/2010/09/the-man-who-first-said-cyborg-50-years-later/63821/\" class=\"storylink\">The Man Who First Said 'Cyborg,' 50 Years Later (2010)</a><span class=\"sitebit comhead\"> (<a href=\"from?site=theatlantic.com\"><span class=\"sitestr\">theatlantic.com</span></a>)</span></td></tr><tr><td colspan=\"2\"></td><td class=\"subtext\">\n",
      "        <span class=\"score\" id=\"score_22447673\">26 points</span> by <a href=\"user?id=benbreen\" class=\"hnuser\">benbreen</a> <span class=\"age\"><a href=\"item?id=22447673\">8 hours ago</a></span> <span id=\"unv_22447673\"></span> | <a href=\"hide?id=22447673&amp;goto=news\">hide</a> | <a href=\"item?id=22447673\">discuss</a>              </td></tr>\n",
      "      <tr class=\"spacer\" style=\"height:5px\"></tr>\n",
      "                <tr class='athing' id='22452383'>\n",
      "      <td align=\"right\" valign=\"top\" class=\"title\"><span class=\"rank\">22.</span></td>      <td valign=\"top\" class=\"votelinks\"><center><a id='up_22452383' href='vote?id=22452383&amp;how=up&amp;goto=news'><div class='votearrow' title='upvote'></div></a></center></td><td class=\"title\"><a href=\"https://apisyouwonthate.com/blog/openapi-v31-and-json-schema-2019-09\" class=\"storylink\">OpenAPI v3.1 and JSON Schema 2019-09</a><span class=\"sitebit comhead\"> (<a href=\"from?site=apisyouwonthate.com\"><span class=\"sitestr\">apisyouwonthate.com</span></a>)</span></td></tr><tr><td colspan=\"2\"></td><td class=\"subtext\">\n",
      "        <span class=\"score\" id=\"score_22452383\">41 points</span> by <a href=\"user?id=BerislavLopac\" class=\"hnuser\">BerislavLopac</a> <span class=\"age\"><a href=\"item?id=22452383\">9 hours ago</a></span> <span id=\"unv_22452383\"></span> | <a href=\"hide?id=22452383&amp;goto=news\">hide</a> | <a href=\"item?id=22452383\">21&nbsp;comments</a>              </td></tr>\n",
      "      <tr class=\"spacer\" style=\"height:5px\"></tr>\n",
      "                <tr class='athing' id='22450493'>\n",
      "      <td align=\"right\" valign=\"top\" class=\"title\"><span class=\"rank\">23.</span></td>      <td valign=\"top\" class=\"votelinks\"><center><a id='up_22450493' href='vote?id=22450493&amp;how=up&amp;goto=news'><div class='votearrow' title='upvote'></div></a></center></td><td class=\"title\"><a href=\"https://jjvidalmac.carto.com/viz/c3c54164-7fcf-11e4-b04f-0e853d047bba/public_map\" class=\"storylink\">All the current trees in Barcelona</a><span class=\"sitebit comhead\"> (<a href=\"from?site=carto.com\"><span class=\"sitestr\">carto.com</span></a>)</span></td></tr><tr><td colspan=\"2\"></td><td class=\"subtext\">\n",
      "        <span class=\"score\" id=\"score_22450493\">115 points</span> by <a href=\"user?id=capableweb\" class=\"hnuser\">capableweb</a> <span class=\"age\"><a href=\"item?id=22450493\">15 hours ago</a></span> <span id=\"unv_22450493\"></span> | <a href=\"hide?id=22450493&amp;goto=news\">hide</a> | <a href=\"item?id=22450493\">31&nbsp;comments</a>              </td></tr>\n",
      "      <tr class=\"spacer\" style=\"height:5px\"></tr>\n",
      "                <tr class='athing' id='22453100'>\n",
      "      <td align=\"right\" valign=\"top\" class=\"title\"><span class=\"rank\">24.</span></td>      <td valign=\"top\" class=\"votelinks\"><center><a id='up_22453100' href='vote?id=22453100&amp;how=up&amp;goto=news'><div class='votearrow' title='upvote'></div></a></center></td><td class=\"title\"><a href=\"https://www.instructables.com/id/The-Pandemic-Ventilator/\" class=\"storylink\">Open-source “pandemic ventilator”</a><span class=\"sitebit comhead\"> (<a href=\"from?site=instructables.com\"><span class=\"sitestr\">instructables.com</span></a>)</span></td></tr><tr><td colspan=\"2\"></td><td class=\"subtext\">\n",
      "        <span class=\"score\" id=\"score_22453100\">103 points</span> by <a href=\"user?id=ericb\" class=\"hnuser\">ericb</a> <span class=\"age\"><a href=\"item?id=22453100\">7 hours ago</a></span> <span id=\"unv_22453100\"></span> | <a href=\"hide?id=22453100&amp;goto=news\">hide</a> | <a href=\"item?id=22453100\">67&nbsp;comments</a>              </td></tr>\n",
      "      <tr class=\"spacer\" style=\"height:5px\"></tr>\n",
      "                <tr class='athing' id='22441134'>\n",
      "      <td align=\"right\" valign=\"top\" class=\"title\"><span class=\"rank\">25.</span></td>      <td valign=\"top\" class=\"votelinks\"><center><a id='up_22441134' href='vote?id=22441134&amp;how=up&amp;goto=news'><div class='votearrow' title='upvote'></div></a></center></td><td class=\"title\"><a href=\"https://git.sr.ht/~apreiml/prunef/\" class=\"storylink\">A backup rotation filter for the Unix shell</a><span class=\"sitebit comhead\"> (<a href=\"from?site=sr.ht\"><span class=\"sitestr\">sr.ht</span></a>)</span></td></tr><tr><td colspan=\"2\"></td><td class=\"subtext\">\n",
      "        <span class=\"score\" id=\"score_22441134\">81 points</span> by <a href=\"user?id=closeneough\" class=\"hnuser\">closeneough</a> <span class=\"age\"><a href=\"item?id=22441134\">14 hours ago</a></span> <span id=\"unv_22441134\"></span> | <a href=\"hide?id=22441134&amp;goto=news\">hide</a> | <a href=\"item?id=22441134\">24&nbsp;comments</a>              </td></tr>\n",
      "      <tr class=\"spacer\" style=\"height:5px\"></tr>\n",
      "                <tr class='athing' id='22454069'>\n",
      "      <td align=\"right\" valign=\"top\" class=\"title\"><span class=\"rank\">26.</span></td>      <td valign=\"top\" class=\"votelinks\"><center><a id='up_22454069' href='vote?id=22454069&amp;how=up&amp;goto=news'><div class='votearrow' title='upvote'></div></a></center></td><td class=\"title\"><a href=\"https://medium.com/@cormiertyshawn895/deep-dive-how-does-retroactive-work-95fe0e5ea49e\" class=\"storylink\">The Technical Backstory of Retroactive</a><span class=\"sitebit comhead\"> (<a href=\"from?site=medium.com\"><span class=\"sitestr\">medium.com</span></a>)</span></td></tr><tr><td colspan=\"2\"></td><td class=\"subtext\">\n",
      "        <span class=\"score\" id=\"score_22454069\">8 points</span> by <a href=\"user?id=Wowfunhappy\" class=\"hnuser\">Wowfunhappy</a> <span class=\"age\"><a href=\"item?id=22454069\">5 hours ago</a></span> <span id=\"unv_22454069\"></span> | <a href=\"hide?id=22454069&amp;goto=news\">hide</a> | <a href=\"item?id=22454069\">discuss</a>              </td></tr>\n",
      "      <tr class=\"spacer\" style=\"height:5px\"></tr>\n",
      "                <tr class='athing' id='22454016'>\n",
      "      <td align=\"right\" valign=\"top\" class=\"title\"><span class=\"rank\">27.</span></td>      <td valign=\"top\" class=\"votelinks\"><center><a id='up_22454016' href='vote?id=22454016&amp;how=up&amp;goto=news'><div class='votearrow' title='upvote'></div></a></center></td><td class=\"title\"><a href=\"https://www.bbc.com/news/world-asia-51691967\" class=\"storylink\">NASA images show China pollution clear amid slowdown</a><span class=\"sitebit comhead\"> (<a href=\"from?site=bbc.com\"><span class=\"sitestr\">bbc.com</span></a>)</span></td></tr><tr><td colspan=\"2\"></td><td class=\"subtext\">\n",
      "        <span class=\"score\" id=\"score_22454016\">55 points</span> by <a href=\"user?id=rusty__\" class=\"hnuser\">rusty__</a> <span class=\"age\"><a href=\"item?id=22454016\">5 hours ago</a></span> <span id=\"unv_22454016\"></span> | <a href=\"hide?id=22454016&amp;goto=news\">hide</a> | <a href=\"item?id=22454016\">30&nbsp;comments</a>              </td></tr>\n",
      "      <tr class=\"spacer\" style=\"height:5px\"></tr>\n",
      "                <tr class='athing' id='22450464'>\n",
      "      <td align=\"right\" valign=\"top\" class=\"title\"><span class=\"rank\">28.</span></td>      <td valign=\"top\" class=\"votelinks\"><center><a id='up_22450464' href='vote?id=22450464&amp;how=up&amp;goto=news'><div class='votearrow' title='upvote'></div></a></center></td><td class=\"title\"><a href=\"https://www.flyertalk.com/articles/private-lie-flat-seats-for-every-economy-passenger.html\" class=\"storylink\">The Zephyr premium economy airline seat</a><span class=\"sitebit comhead\"> (<a href=\"from?site=flyertalk.com\"><span class=\"sitestr\">flyertalk.com</span></a>)</span></td></tr><tr><td colspan=\"2\"></td><td class=\"subtext\">\n",
      "        <span class=\"score\" id=\"score_22450464\">143 points</span> by <a href=\"user?id=nikhizzle\" class=\"hnuser\">nikhizzle</a> <span class=\"age\"><a href=\"item?id=22450464\">15 hours ago</a></span> <span id=\"unv_22450464\"></span> | <a href=\"hide?id=22450464&amp;goto=news\">hide</a> | <a href=\"item?id=22450464\">116&nbsp;comments</a>              </td></tr>\n",
      "      <tr class=\"spacer\" style=\"height:5px\"></tr>\n",
      "                <tr class='athing' id='22449562'>\n",
      "      <td align=\"right\" valign=\"top\" class=\"title\"><span class=\"rank\">29.</span></td>      <td valign=\"top\" class=\"votelinks\"><center><a id='up_22449562' href='vote?id=22449562&amp;how=up&amp;goto=news'><div class='votearrow' title='upvote'></div></a></center></td><td class=\"title\"><a href=\"https://github.com/fastai/fastbook\" class=\"storylink\">Draft of the Fast.ai Book</a><span class=\"sitebit comhead\"> (<a href=\"from?site=github.com\"><span class=\"sitestr\">github.com</span></a>)</span></td></tr><tr><td colspan=\"2\"></td><td class=\"subtext\">\n",
      "        <span class=\"score\" id=\"score_22449562\">394 points</span> by <a href=\"user?id=AgharaShyam\" class=\"hnuser\">AgharaShyam</a> <span class=\"age\"><a href=\"item?id=22449562\">20 hours ago</a></span> <span id=\"unv_22449562\"></span> | <a href=\"hide?id=22449562&amp;goto=news\">hide</a> | <a href=\"item?id=22449562\">54&nbsp;comments</a>              </td></tr>\n",
      "      <tr class=\"spacer\" style=\"height:5px\"></tr>\n",
      "                <tr class='athing' id='22453318'>\n",
      "      <td align=\"right\" valign=\"top\" class=\"title\"><span class=\"rank\">30.</span></td>      <td valign=\"top\" class=\"votelinks\"><center><a id='up_22453318' href='vote?id=22453318&amp;how=up&amp;goto=news'><div class='votearrow' title='upvote'></div></a></center></td><td class=\"title\"><a href=\"https://www.geekwire.com/2020/spacexs-starship-sn1-prototype-blows-pressure-test-texas-pad/\" class=\"storylink\">SpaceX’s Starship SN1 prototype blows up during pressure test on its Texas pad</a><span class=\"sitebit comhead\"> (<a href=\"from?site=geekwire.com\"><span class=\"sitestr\">geekwire.com</span></a>)</span></td></tr><tr><td colspan=\"2\"></td><td class=\"subtext\">\n",
      "        <span class=\"score\" id=\"score_22453318\">74 points</span> by <a href=\"user?id=eternalny1\" class=\"hnuser\">eternalny1</a> <span class=\"age\"><a href=\"item?id=22453318\">7 hours ago</a></span> <span id=\"unv_22453318\"></span> | <a href=\"hide?id=22453318&amp;goto=news\">hide</a> | <a href=\"item?id=22453318\">36&nbsp;comments</a>              </td></tr>\n",
      "      <tr class=\"spacer\" style=\"height:5px\"></tr>\n",
      "            <tr class=\"morespace\" style=\"height:10px\"></tr><tr><td colspan=\"2\"></td><td class=\"title\"><a href=\"news?p=2\" class=\"morelink\" rel=\"next\">More</a></td></tr>\n",
      "  </table>\n",
      "</td></tr>\n",
      "<tr><td><img src=\"s.gif\" height=\"10\" width=\"0\"><table width=\"100%\" cellspacing=\"0\" cellpadding=\"1\"><tr><td bgcolor=\"#ff6600\"></td></tr></table><br><center><a href=\"https://www.ycombinator.com/apply/\">\n",
      "        Applications are open for YC Summer 2020\n",
      "      </a></center><br><center><span class=\"yclinks\"><a href=\"newsguidelines.html\">Guidelines</a>\n",
      "        | <a href=\"newsfaq.html\">FAQ</a>\n",
      "        | <a href=\"mailto:hn@ycombinator.com\">Support</a>\n",
      "        | <a href=\"https://github.com/HackerNews/API\">API</a>\n",
      "        | <a href=\"security.html\">Security</a>\n",
      "        | <a href=\"lists\">Lists</a>\n",
      "        | <a href=\"bookmarklet.html\" rel=\"nofollow\">Bookmarklet</a>\n",
      "        | <a href=\"http://www.ycombinator.com/legal/\">Legal</a>\n",
      "        | <a href=\"http://www.ycombinator.com/apply/\">Apply to YC</a>\n",
      "        | <a href=\"mailto:hn@ycombinator.com\">Contact</a></span><br><br><form method=\"get\" action=\"//hn.algolia.com/\">Search:\n",
      "          <input type=\"text\" name=\"q\" value=\"\" size=\"17\" autocorrect=\"off\" spellcheck=\"false\" autocapitalize=\"off\" autocomplete=\"false\"></form>\n",
      "            </center></td></tr>\n",
      "      </table></center></body><script type='text/javascript' src='hn.js?JIu4ETXPPhCQtzUAXVsQ'></script></html>\n",
      "\n"
     ]
    }
   ],
   "source": [
    "import requests\n",
    "\n",
    "# Fetch a web page\n",
    "r = requests.get(\"https://news.ycombinator.com\")\n",
    "print(r.text)"
   ]
  },
  {
   "cell_type": "code",
   "execution_count": 5,
   "metadata": {},
   "outputs": [
    {
     "name": "stdout",
     "output_type": "stream",
     "text": [
      "\n",
      "        \n",
      "          \n",
      "        Hacker News\n",
      "        \n",
      "                  Hacker News\n",
      "              new | past | comments | ask | show | jobs | submit            \n",
      "                              login\n",
      "                          \n",
      "              \n",
      "\n",
      "              \n",
      "      1.      How many users block Google analytics? (2017) (wesleyac.com)\n",
      "        113 points by luu 3 hours ago  | hide | 83&nbsp;comments              \n",
      "      \n",
      "                \n",
      "      2.      Ask HN: Good ways to capture institutional knowledge?\n",
      "        72 points by alhirzel 3 hours ago  | hide | 34&nbsp;comments              \n",
      "      \n",
      "                \n",
      "      3.      Intel Refreshes 2nd Gen Xeon Scalable, Slashes Prices (wikichip.org)\n",
      "        108 points by rbanffy 7 hours ago  | hide | 76&nbsp;comments              \n",
      "      \n",
      "                \n",
      "      4.      2020 Leap Day Bugs (codeofmatt.com)\n",
      "        200 points by mj1586 10 hours ago  | hide | 108&nbsp;comments              \n",
      "      \n",
      "                \n",
      "      5.      iNaturalist is a social network of people helping each other learn about nature (wired.com)\n",
      "        180 points by SirLJ 12 hours ago  | hide | 37&nbsp;comments              \n",
      "      \n",
      "                \n",
      "      6.      Two epigenetic regulators interfere with healthy aging (padiracinnovation.org)\n",
      "        95 points by JPLeRouzic 8 hours ago  | hide | 8&nbsp;comments              \n",
      "      \n",
      "                \n",
      "      7.      Physicists grab individual atoms in groundbreaking experiment (phys.org)\n",
      "        59 points by magoghm 7 hours ago  | hide | 14&nbsp;comments              \n",
      "      \n",
      "                \n",
      "      8.      Show HN: Edtr.io – Intuitive web editor, open source and fully adaptable (edtr.io)\n",
      "        148 points by SplishCrew 11 hours ago  | hide | 45&nbsp;comments              \n",
      "      \n",
      "                \n",
      "      9.      Implementing Raft: Part 2: Commands and Log Replication (thegreenplace.net)\n",
      "        49 points by ingve 6 hours ago  | hide | 4&nbsp;comments              \n",
      "      \n",
      "                \n",
      "      10.      64 bit OS Raspberry Pi4 Benchmarks (medium.com)\n",
      "        133 points by tosh 9 hours ago  | hide | 51&nbsp;comments              \n",
      "      \n",
      "                \n",
      "      11.      Flutter and Dart, or how to quickly build a mobile app without losing your hair (altkomsoftware.pl)\n",
      "        123 points by witek1902 4 hours ago  | hide | 61&nbsp;comments              \n",
      "      \n",
      "                \n",
      "      12.      Manuals and guides for startups (threadreaderapp.com)\n",
      "        104 points by mooreds 12 hours ago  | hide | 4&nbsp;comments              \n",
      "      \n",
      "                \n",
      "      13.      The Two Middle Classes (quillette.com)\n",
      "        107 points by paulpauper 6 hours ago  | hide | 58&nbsp;comments              \n",
      "      \n",
      "                \n",
      "      14.      Adversarial Policies: Attacking Deep Reinforcement Learning (arxiv.org)\n",
      "        56 points by magoghm 9 hours ago  | hide | 6&nbsp;comments              \n",
      "      \n",
      "                \n",
      "      15.      Show HN: Visualizing the transmission between you and base stations (github.com)\n",
      "        53 points by chony 9 hours ago  | hide | 6&nbsp;comments              \n",
      "      \n",
      "                \n",
      "      16.      Seeing the Smoke (putanumonit.com)\n",
      "        46 points by ctoth 3 hours ago  | hide | 10&nbsp;comments              \n",
      "      \n",
      "                \n",
      "      17.      Apple Just Disabled Clearview AI's iPhone App for Breaking Rules on Distribution (buzzfeednews.com)\n",
      "        153 points by jbegley 6 hours ago  | hide | 100&nbsp;comments              \n",
      "      \n",
      "                \n",
      "      18.      Branching Time Iteration (billwadge.wordpress.com)\n",
      "        20 points by herodotus 6 hours ago  | hide | discuss              \n",
      "      \n",
      "                \n",
      "      19.      Complex-step differentiation and automatic differentiation (2001) [pdf] (semanticscholar.org)\n",
      "        31 points by aidanrocke 8 hours ago  | hide | 4&nbsp;comments              \n",
      "      \n",
      "                \n",
      "      20.      Online altruists making Reddit more accessible (wired.com)\n",
      "        33 points by spost 9 hours ago  | hide | 27&nbsp;comments              \n",
      "      \n",
      "                \n",
      "      21.      The Man Who First Said 'Cyborg,' 50 Years Later (2010) (theatlantic.com)\n",
      "        26 points by benbreen 8 hours ago  | hide | discuss              \n",
      "      \n",
      "                \n",
      "      22.      OpenAPI v3.1 and JSON Schema 2019-09 (apisyouwonthate.com)\n",
      "        41 points by BerislavLopac 9 hours ago  | hide | 21&nbsp;comments              \n",
      "      \n",
      "                \n",
      "      23.      All the current trees in Barcelona (carto.com)\n",
      "        115 points by capableweb 15 hours ago  | hide | 31&nbsp;comments              \n",
      "      \n",
      "                \n",
      "      24.      Open-source “pandemic ventilator” (instructables.com)\n",
      "        103 points by ericb 7 hours ago  | hide | 67&nbsp;comments              \n",
      "      \n",
      "                \n",
      "      25.      A backup rotation filter for the Unix shell (sr.ht)\n",
      "        81 points by closeneough 14 hours ago  | hide | 24&nbsp;comments              \n",
      "      \n",
      "                \n",
      "      26.      The Technical Backstory of Retroactive (medium.com)\n",
      "        8 points by Wowfunhappy 5 hours ago  | hide | discuss              \n",
      "      \n",
      "                \n",
      "      27.      NASA images show China pollution clear amid slowdown (bbc.com)\n",
      "        55 points by rusty__ 5 hours ago  | hide | 30&nbsp;comments              \n",
      "      \n",
      "                \n",
      "      28.      The Zephyr premium economy airline seat (flyertalk.com)\n",
      "        143 points by nikhizzle 15 hours ago  | hide | 116&nbsp;comments              \n",
      "      \n",
      "                \n",
      "      29.      Draft of the Fast.ai Book (github.com)\n",
      "        394 points by AgharaShyam 20 hours ago  | hide | 54&nbsp;comments              \n",
      "      \n",
      "                \n",
      "      30.      SpaceX’s Starship SN1 prototype blows up during pressure test on its Texas pad (geekwire.com)\n",
      "        74 points by eternalny1 7 hours ago  | hide | 36&nbsp;comments              \n",
      "      \n",
      "            More\n",
      "  \n",
      "\n",
      "\n",
      "        Applications are open for YC Summer 2020\n",
      "      Guidelines\n",
      "        | FAQ\n",
      "        | Support\n",
      "        | API\n",
      "        | Security\n",
      "        | Lists\n",
      "        | Bookmarklet\n",
      "        | Legal\n",
      "        | Apply to YC\n",
      "        | ContactSearch:\n",
      "          \n",
      "            \n",
      "      \n",
      "\n"
     ]
    }
   ],
   "source": [
    "import re\n",
    "\n",
    "# Remove HTML tags using RegEx\n",
    "pattern = re.compile(r'<.*?>')  # tags look like <...>\n",
    "print(pattern.sub('', r.text))  # replace them with blank"
   ]
  },
  {
   "cell_type": "code",
   "execution_count": 6,
   "metadata": {},
   "outputs": [
    {
     "name": "stdout",
     "output_type": "stream",
     "text": [
      "\n",
      "        \n",
      "          \n",
      "        Hacker News\n",
      "        \n",
      "                  Hacker News\n",
      "              new | past | comments | ask | show | jobs | submit            \n",
      "                              login\n",
      "                          \n",
      "              \n",
      "\n",
      "              \n",
      "      1.      How many users block Google analytics? (2017) (wesleyac.com)\n",
      "        113 points by luu 3 hours ago  | hide | 83 comments              \n",
      "      \n",
      "                \n",
      "      2.      Ask HN: Good ways to capture institutional knowledge?\n",
      "        72 points by alhirzel 3 hours ago  | hide | 34 comments              \n",
      "      \n",
      "                \n",
      "      3.      Intel Refreshes 2nd Gen Xeon Scalable, Slashes Prices (wikichip.org)\n",
      "        108 points by rbanffy 7 hours ago  | hide | 76 comments              \n",
      "      \n",
      "                \n",
      "      4.      2020 Leap Day Bugs (codeofmatt.com)\n",
      "        200 points by mj1586 10 hours ago  | hide | 108 comments              \n",
      "      \n",
      "                \n",
      "      5.      iNaturalist is a social network of people helping each other learn about nature (wired.com)\n",
      "        180 points by SirLJ 12 hours ago  | hide | 37 comments              \n",
      "      \n",
      "                \n",
      "      6.      Two epigenetic regulators interfere with healthy aging (padiracinnovation.org)\n",
      "        95 points by JPLeRouzic 8 hours ago  | hide | 8 comments              \n",
      "      \n",
      "                \n",
      "      7.      Physicists grab individual atoms in groundbreaking experiment (phys.org)\n",
      "        59 points by magoghm 7 hours ago  | hide | 14 comments              \n",
      "      \n",
      "                \n",
      "      8.      Show HN: Edtr.io – Intuitive web editor, open source and fully adaptable (edtr.io)\n",
      "        148 points by SplishCrew 11 hours ago  | hide | 45 comments              \n",
      "      \n",
      "                \n",
      "      9.      Implementing Raft: Part 2: Commands and Log Replication (thegreenplace.net)\n",
      "        49 points by ingve 6 hours ago  | hide | 4 comments              \n",
      "      \n",
      "                \n",
      "      10.      64 bit OS Raspberry Pi4 Benchmarks (medium.com)\n",
      "        133 points by tosh 9 hours ago  | hide | 51 comments              \n",
      "      \n",
      "                \n",
      "      11.      Flutter and Dart, or how to quickly build a mobile app without losing your hair (altkomsoftware.pl)\n",
      "        123 points by witek1902 4 hours ago  | hide | 61 comments              \n",
      "      \n",
      "                \n",
      "      12.      Manuals and guides for startups (threadreaderapp.com)\n",
      "        104 points by mooreds 12 hours ago  | hide | 4 comments              \n",
      "      \n",
      "                \n",
      "      13.      The Two Middle Classes (quillette.com)\n",
      "        107 points by paulpauper 6 hours ago  | hide | 58 comments              \n",
      "      \n",
      "                \n",
      "      14.      Adversarial Policies: Attacking Deep Reinforcement Learning (arxiv.org)\n",
      "        56 points by magoghm 9 hours ago  | hide | 6 comments              \n",
      "      \n",
      "                \n",
      "      15.      Show HN: Visualizing the transmission between you and base stations (github.com)\n",
      "        53 points by chony 9 hours ago  | hide | 6 comments              \n",
      "      \n",
      "                \n",
      "      16.      Seeing the Smoke (putanumonit.com)\n",
      "        46 points by ctoth 3 hours ago  | hide | 10 comments              \n",
      "      \n",
      "                \n",
      "      17.      Apple Just Disabled Clearview AI's iPhone App for Breaking Rules on Distribution (buzzfeednews.com)\n",
      "        153 points by jbegley 6 hours ago  | hide | 100 comments              \n",
      "      \n",
      "                \n",
      "      18.      Branching Time Iteration (billwadge.wordpress.com)\n",
      "        20 points by herodotus 6 hours ago  | hide | discuss              \n",
      "      \n",
      "                \n",
      "      19.      Complex-step differentiation and automatic differentiation (2001) [pdf] (semanticscholar.org)\n",
      "        31 points by aidanrocke 8 hours ago  | hide | 4 comments              \n",
      "      \n",
      "                \n",
      "      20.      Online altruists making Reddit more accessible (wired.com)\n",
      "        33 points by spost 9 hours ago  | hide | 27 comments              \n",
      "      \n",
      "                \n",
      "      21.      The Man Who First Said 'Cyborg,' 50 Years Later (2010) (theatlantic.com)\n",
      "        26 points by benbreen 8 hours ago  | hide | discuss              \n",
      "      \n",
      "                \n",
      "      22.      OpenAPI v3.1 and JSON Schema 2019-09 (apisyouwonthate.com)\n",
      "        41 points by BerislavLopac 9 hours ago  | hide | 21 comments              \n",
      "      \n",
      "                \n",
      "      23.      All the current trees in Barcelona (carto.com)\n",
      "        115 points by capableweb 15 hours ago  | hide | 31 comments              \n",
      "      \n",
      "                \n",
      "      24.      Open-source “pandemic ventilator” (instructables.com)\n",
      "        103 points by ericb 7 hours ago  | hide | 67 comments              \n",
      "      \n",
      "                \n",
      "      25.      A backup rotation filter for the Unix shell (sr.ht)\n",
      "        81 points by closeneough 14 hours ago  | hide | 24 comments              \n",
      "      \n",
      "                \n",
      "      26.      The Technical Backstory of Retroactive (medium.com)\n",
      "        8 points by Wowfunhappy 5 hours ago  | hide | discuss              \n",
      "      \n",
      "                \n",
      "      27.      NASA images show China pollution clear amid slowdown (bbc.com)\n",
      "        55 points by rusty__ 5 hours ago  | hide | 30 comments              \n",
      "      \n",
      "                \n",
      "      28.      The Zephyr premium economy airline seat (flyertalk.com)\n",
      "        143 points by nikhizzle 15 hours ago  | hide | 116 comments              \n",
      "      \n",
      "                \n",
      "      29.      Draft of the Fast.ai Book (github.com)\n",
      "        394 points by AgharaShyam 20 hours ago  | hide | 54 comments              \n",
      "      \n",
      "                \n",
      "      30.      SpaceX’s Starship SN1 prototype blows up during pressure test on its Texas pad (geekwire.com)\n",
      "        74 points by eternalny1 7 hours ago  | hide | 36 comments              \n",
      "      \n",
      "            More\n",
      "  \n",
      "\n",
      "\n",
      "        Applications are open for YC Summer 2020\n",
      "      Guidelines\n",
      "        | FAQ\n",
      "        | Support\n",
      "        | API\n",
      "        | Security\n",
      "        | Lists\n",
      "        | Bookmarklet\n",
      "        | Legal\n",
      "        | Apply to YC\n",
      "        | ContactSearch:\n",
      "          \n",
      "            \n",
      "      \n",
      "\n"
     ]
    }
   ],
   "source": [
    "from bs4 import BeautifulSoup\n",
    "\n",
    "# Remove HTML tags using Beautiful Soup library\n",
    "soup = BeautifulSoup(r.text, \"html5lib\")\n",
    "print(soup.get_text())"
   ]
  },
  {
   "cell_type": "code",
   "execution_count": 7,
   "metadata": {
    "scrolled": false
   },
   "outputs": [
    {
     "data": {
      "text/plain": [
       "<tr class=\"athing\" id=\"22454520\">\n",
       "      <td align=\"right\" class=\"title\" valign=\"top\"><span class=\"rank\">1.</span></td>      <td class=\"votelinks\" valign=\"top\"><center><a href=\"vote?id=22454520&amp;how=up&amp;goto=news\" id=\"up_22454520\"><div class=\"votearrow\" title=\"upvote\"></div></a></center></td><td class=\"title\"><a class=\"storylink\" href=\"https://blog.wesleyac.com/posts/google-analytics\">How many users block Google analytics? (2017)</a><span class=\"sitebit comhead\"> (<a href=\"from?site=wesleyac.com\"><span class=\"sitestr\">wesleyac.com</span></a>)</span></td></tr>"
      ]
     },
     "execution_count": 7,
     "metadata": {},
     "output_type": "execute_result"
    }
   ],
   "source": [
    "# Find all articles\n",
    "summaries = soup.find_all(\"tr\", class_=\"athing\")\n",
    "summaries[0]"
   ]
  },
  {
   "cell_type": "code",
   "execution_count": 8,
   "metadata": {},
   "outputs": [
    {
     "data": {
      "text/plain": [
       "<a class=\"storylink\" href=\"https://blog.wesleyac.com/posts/google-analytics\">How many users block Google analytics? (2017)</a>"
      ]
     },
     "execution_count": 8,
     "metadata": {},
     "output_type": "execute_result"
    }
   ],
   "source": [
    "# Extract title\n",
    "summaries[0].find(\"a\", class_=\"storylink\")"
   ]
  },
  {
   "cell_type": "code",
   "execution_count": 9,
   "metadata": {},
   "outputs": [
    {
     "data": {
      "text/plain": [
       "'How many users block Google analytics? (2017)'"
      ]
     },
     "execution_count": 9,
     "metadata": {},
     "output_type": "execute_result"
    }
   ],
   "source": [
    "# Extract title\n",
    "summaries[0].find(\"a\", class_=\"storylink\").get_text()"
   ]
  },
  {
   "cell_type": "code",
   "execution_count": 10,
   "metadata": {},
   "outputs": [
    {
     "data": {
      "text/plain": [
       "'How many users block Google analytics? (2017)'"
      ]
     },
     "execution_count": 10,
     "metadata": {},
     "output_type": "execute_result"
    }
   ],
   "source": [
    "# Extract title\n",
    "summaries[0].find(\"a\", class_=\"storylink\").get_text().strip()\n",
    "# strip(): The strip() method returns a copy of the string in \n",
    "# which all chars have been stripped from the beginning and the \n",
    "# end of the string (default whitespace characters)."
   ]
  },
  {
   "cell_type": "code",
   "execution_count": 11,
   "metadata": {},
   "outputs": [
    {
     "name": "stdout",
     "output_type": "stream",
     "text": [
      "30 Article summaries found. Sample:\n",
      "How many users block Google analytics? (2017)\n"
     ]
    }
   ],
   "source": [
    "# Find all articles, extract titles\n",
    "articles = []\n",
    "summaries = soup.find_all(\"tr\", class_=\"athing\")\n",
    "for summary in summaries:\n",
    "    title = summary.find(\"a\", class_=\"storylink\").get_text().strip()\n",
    "    articles.append((title))\n",
    "\n",
    "print(len(articles), \"Article summaries found. Sample:\")\n",
    "print(articles[0])"
   ]
  },
  {
   "cell_type": "markdown",
   "metadata": {
    "collapsed": true
   },
   "source": [
    "## Normalization"
   ]
  },
  {
   "cell_type": "markdown",
   "metadata": {},
   "source": [
    "### Case Normalization"
   ]
  },
  {
   "cell_type": "code",
   "execution_count": 12,
   "metadata": {},
   "outputs": [
    {
     "name": "stdout",
     "output_type": "stream",
     "text": [
      "The first time you see The Second Renaissance it may look boring. Look at it at least twice and definitely watch part 2. It will change your view of the matrix. Are the human people the ones who started the war ? Is AI a bad thing ?\n"
     ]
    }
   ],
   "source": [
    "# Sample text\n",
    "text = \"The first time you see The Second Renaissance it may look boring. Look at it at least twice and definitely watch part 2. It will change your view of the matrix. Are the human people the ones who started the war ? Is AI a bad thing ?\"\n",
    "print(text)"
   ]
  },
  {
   "cell_type": "code",
   "execution_count": 13,
   "metadata": {},
   "outputs": [
    {
     "name": "stdout",
     "output_type": "stream",
     "text": [
      "the first time you see the second renaissance it may look boring. look at it at least twice and definitely watch part 2. it will change your view of the matrix. are the human people the ones who started the war ? is ai a bad thing ?\n"
     ]
    }
   ],
   "source": [
    "# Convert to lowercase\n",
    "text = text.lower() \n",
    "print(text)"
   ]
  },
  {
   "cell_type": "markdown",
   "metadata": {},
   "source": [
    "### Punctuation Removal"
   ]
  },
  {
   "cell_type": "code",
   "execution_count": 14,
   "metadata": {},
   "outputs": [
    {
     "name": "stdout",
     "output_type": "stream",
     "text": [
      "the first time you see the second renaissance it may look boring  look at it at least twice and definitely watch part 2  it will change your view of the matrix  are the human people the ones who started the war   is ai a bad thing  \n"
     ]
    }
   ],
   "source": [
    "import re\n",
    "\n",
    "# Remove punctuation characters\n",
    "text = re.sub(r\"[^a-zA-Z0-9]\", \" \", text) \n",
    "print(text)"
   ]
  },
  {
   "cell_type": "markdown",
   "metadata": {},
   "source": [
    "## Tokenization"
   ]
  },
  {
   "cell_type": "code",
   "execution_count": 15,
   "metadata": {},
   "outputs": [
    {
     "name": "stdout",
     "output_type": "stream",
     "text": [
      "['the', 'first', 'time', 'you', 'see', 'the', 'second', 'renaissance', 'it', 'may', 'look', 'boring', 'look', 'at', 'it', 'at', 'least', 'twice', 'and', 'definitely', 'watch', 'part', '2', 'it', 'will', 'change', 'your', 'view', 'of', 'the', 'matrix', 'are', 'the', 'human', 'people', 'the', 'ones', 'who', 'started', 'the', 'war', 'is', 'ai', 'a', 'bad', 'thing']\n"
     ]
    }
   ],
   "source": [
    "# Split text into tokens (words)\n",
    "words = text.split()\n",
    "print(words)"
   ]
  },
  {
   "cell_type": "markdown",
   "metadata": {},
   "source": [
    "### NLTK: Natural Language ToolKit"
   ]
  },
  {
   "cell_type": "code",
   "execution_count": 16,
   "metadata": {},
   "outputs": [],
   "source": [
    "import os\n",
    "import nltk\n",
    "nltk.data.path.append(os.path.join(os.getcwd(), \"nltk_data\"))"
   ]
  },
  {
   "cell_type": "code",
   "execution_count": 17,
   "metadata": {},
   "outputs": [
    {
     "name": "stdout",
     "output_type": "stream",
     "text": [
      "Dr. Smith graduated from the University of Washington. He later started an analytics firm called Lux, which catered to enterprise customers.\n"
     ]
    }
   ],
   "source": [
    "# Another sample text\n",
    "text = \"Dr. Smith graduated from the University of Washington. He later started an analytics firm called Lux, which catered to enterprise customers.\"\n",
    "print(text)"
   ]
  },
  {
   "cell_type": "code",
   "execution_count": 18,
   "metadata": {},
   "outputs": [
    {
     "name": "stdout",
     "output_type": "stream",
     "text": [
      "['Dr.', 'Smith', 'graduated', 'from', 'the', 'University', 'of', 'Washington', '.', 'He', 'later', 'started', 'an', 'analytics', 'firm', 'called', 'Lux', ',', 'which', 'catered', 'to', 'enterprise', 'customers', '.']\n"
     ]
    }
   ],
   "source": [
    "from nltk.tokenize import word_tokenize\n",
    "\n",
    "# Split text into words using NLTK\n",
    "words = word_tokenize(text)\n",
    "print(words)"
   ]
  },
  {
   "cell_type": "code",
   "execution_count": 19,
   "metadata": {},
   "outputs": [
    {
     "name": "stdout",
     "output_type": "stream",
     "text": [
      "['Dr. Smith graduated from the University of Washington.', 'He later started an analytics firm called Lux, which catered to enterprise customers.']\n"
     ]
    }
   ],
   "source": [
    "from nltk.tokenize import sent_tokenize\n",
    "\n",
    "# Split text into sentences\n",
    "sentences = sent_tokenize(text)\n",
    "print(sentences)"
   ]
  },
  {
   "cell_type": "code",
   "execution_count": 20,
   "metadata": {},
   "outputs": [
    {
     "name": "stdout",
     "output_type": "stream",
     "text": [
      "['i', 'me', 'my', 'myself', 'we', 'our', 'ours', 'ourselves', 'you', \"you're\", \"you've\", \"you'll\", \"you'd\", 'your', 'yours', 'yourself', 'yourselves', 'he', 'him', 'his', 'himself', 'she', \"she's\", 'her', 'hers', 'herself', 'it', \"it's\", 'its', 'itself', 'they', 'them', 'their', 'theirs', 'themselves', 'what', 'which', 'who', 'whom', 'this', 'that', \"that'll\", 'these', 'those', 'am', 'is', 'are', 'was', 'were', 'be', 'been', 'being', 'have', 'has', 'had', 'having', 'do', 'does', 'did', 'doing', 'a', 'an', 'the', 'and', 'but', 'if', 'or', 'because', 'as', 'until', 'while', 'of', 'at', 'by', 'for', 'with', 'about', 'against', 'between', 'into', 'through', 'during', 'before', 'after', 'above', 'below', 'to', 'from', 'up', 'down', 'in', 'out', 'on', 'off', 'over', 'under', 'again', 'further', 'then', 'once', 'here', 'there', 'when', 'where', 'why', 'how', 'all', 'any', 'both', 'each', 'few', 'more', 'most', 'other', 'some', 'such', 'no', 'nor', 'not', 'only', 'own', 'same', 'so', 'than', 'too', 'very', 's', 't', 'can', 'will', 'just', 'don', \"don't\", 'should', \"should've\", 'now', 'd', 'll', 'm', 'o', 're', 've', 'y', 'ain', 'aren', \"aren't\", 'couldn', \"couldn't\", 'didn', \"didn't\", 'doesn', \"doesn't\", 'hadn', \"hadn't\", 'hasn', \"hasn't\", 'haven', \"haven't\", 'isn', \"isn't\", 'ma', 'mightn', \"mightn't\", 'mustn', \"mustn't\", 'needn', \"needn't\", 'shan', \"shan't\", 'shouldn', \"shouldn't\", 'wasn', \"wasn't\", 'weren', \"weren't\", 'won', \"won't\", 'wouldn', \"wouldn't\"]\n"
     ]
    }
   ],
   "source": [
    "# List stop words\n",
    "from nltk.corpus import stopwords\n",
    "print(stopwords.words(\"english\"))"
   ]
  },
  {
   "cell_type": "code",
   "execution_count": 21,
   "metadata": {},
   "outputs": [
    {
     "name": "stdout",
     "output_type": "stream",
     "text": [
      "['the', 'first', 'time', 'you', 'see', 'the', 'second', 'renaissance', 'it', 'may', 'look', 'boring', 'look', 'at', 'it', 'at', 'least', 'twice', 'and', 'definitely', 'watch', 'part', '2', 'it', 'will', 'change', 'your', 'view', 'of', 'the', 'matrix', 'are', 'the', 'human', 'people', 'the', 'ones', 'who', 'started', 'the', 'war', 'is', 'ai', 'a', 'bad', 'thing']\n"
     ]
    }
   ],
   "source": [
    "# Reset text\n",
    "text = \"The first time you see The Second Renaissance it may look boring. Look at it at least twice and definitely watch part 2. It will change your view of the matrix. Are the human people the ones who started the war ? Is AI a bad thing ?\"\n",
    "\n",
    "# Normalize it\n",
    "text = re.sub(r\"[^a-zA-Z0-9]\", \" \", text.lower())\n",
    "\n",
    "# Tokenize it\n",
    "words = text.split()\n",
    "print(words)"
   ]
  },
  {
   "cell_type": "code",
   "execution_count": 22,
   "metadata": {},
   "outputs": [
    {
     "name": "stdout",
     "output_type": "stream",
     "text": [
      "['first', 'time', 'see', 'second', 'renaissance', 'may', 'look', 'boring', 'look', 'least', 'twice', 'definitely', 'watch', 'part', '2', 'change', 'view', 'matrix', 'human', 'people', 'ones', 'started', 'war', 'ai', 'bad', 'thing']\n"
     ]
    }
   ],
   "source": [
    "# Remove stop words\n",
    "words = [w for w in words if w not in stopwords.words(\"english\")]\n",
    "print(words)"
   ]
  },
  {
   "cell_type": "markdown",
   "metadata": {},
   "source": [
    "### Named Entity Recognition"
   ]
  },
  {
   "cell_type": "markdown",
   "metadata": {},
   "source": [
    "Additional requirements \n",
    "```\n",
    "sudo apt-get install python3-tk\n",
    "pip3 install tk\n",
    "```"
   ]
  },
  {
   "cell_type": "code",
   "execution_count": 23,
   "metadata": {},
   "outputs": [
    {
     "name": "stderr",
     "output_type": "stream",
     "text": [
      "[nltk_data] Downloading package averaged_perceptron_tagger to\n",
      "[nltk_data]     /home/rofox/work/udacity/nlp/AIND-NLP/nltk_data...\n",
      "[nltk_data]   Package averaged_perceptron_tagger is already up-to-\n",
      "[nltk_data]       date!\n",
      "[nltk_data] Downloading package maxent_ne_chunker to\n",
      "[nltk_data]     /home/rofox/work/udacity/nlp/AIND-NLP/nltk_data...\n",
      "[nltk_data]   Package maxent_ne_chunker is already up-to-date!\n",
      "[nltk_data] Downloading package words to\n",
      "[nltk_data]     /home/rofox/work/udacity/nlp/AIND-NLP/nltk_data...\n",
      "[nltk_data]   Package words is already up-to-date!\n"
     ]
    },
    {
     "data": {
      "image/png": "[encoded data removed]",
      "text/plain": [
       "Tree('S', [Tree('PERSON', [('Antonio', 'NNP')]), ('joined', 'VBD'), Tree('ORGANIZATION', [('Udacity', 'NNP'), ('Inc.', 'NNP')]), ('in', 'IN'), Tree('GPE', [('California', 'NNP')]), ('.', '.')])"
      ]
     },
     "execution_count": 23,
     "metadata": {},
     "output_type": "execute_result"
    }
   ],
   "source": [
    "nltk.download('averaged_perceptron_tagger', download_dir=os.path.join(os.getcwd(), \"nltk_data\"))\n",
    "nltk.download('maxent_ne_chunker', download_dir=os.path.join(os.getcwd(), \"nltk_data\"))\n",
    "nltk.download('words', download_dir=os.path.join(os.getcwd(), \"nltk_data\"))\n",
    "from nltk import pos_tag, ne_chunk\n",
    "from nltk.tokenize import word_tokenize\n",
    "\n",
    "# Recognize named entities in a tagged sentence\n",
    "ne_chunk(pos_tag(word_tokenize(\"Antonio joined Udacity Inc. in California.\")))"
   ]
  },
  {
   "cell_type": "markdown",
   "metadata": {},
   "source": [
    "### Sentence Parsing"
   ]
  },
  {
   "cell_type": "code",
   "execution_count": 24,
   "metadata": {},
   "outputs": [
    {
     "name": "stdout",
     "output_type": "stream",
     "text": [
      "(S\n",
      "  (NP I)\n",
      "  (VP\n",
      "    (VP (V shot) (NP (Det an) (N elephant)))\n",
      "    (PP (P in) (NP (Det my) (N pajamas)))))\n",
      "(S\n",
      "  (NP I)\n",
      "  (VP\n",
      "    (V shot)\n",
      "    (NP (Det an) (N elephant) (PP (P in) (NP (Det my) (N pajamas))))))\n"
     ]
    }
   ],
   "source": [
    "import nltk\n",
    "\n",
    "# Define a custom grammar\n",
    "my_grammar = nltk.CFG.fromstring(\"\"\"\n",
    "S -> NP VP\n",
    "PP -> P NP\n",
    "NP -> Det N | Det N PP | 'I'\n",
    "VP -> V NP | VP PP\n",
    "Det -> 'an' | 'my'\n",
    "N -> 'elephant' | 'pajamas'\n",
    "V -> 'shot'\n",
    "P -> 'in'\n",
    "\"\"\")\n",
    "parser = nltk.ChartParser(my_grammar)\n",
    "\n",
    "# Parse a sentence\n",
    "sentence = word_tokenize(\"I shot an elephant in my pajamas\")\n",
    "for tree in parser.parse(sentence):\n",
    "    print(tree)"
   ]
  },
  {
   "cell_type": "markdown",
   "metadata": {},
   "source": [
    "## Stemming & Lemmatization\n",
    "\n",
    "### Stemming"
   ]
  },
  {
   "cell_type": "code",
   "execution_count": 25,
   "metadata": {},
   "outputs": [
    {
     "name": "stdout",
     "output_type": "stream",
     "text": [
      "['first', 'time', 'see', 'second', 'renaiss', 'may', 'look', 'bore', 'look', 'least', 'twice', 'definit', 'watch', 'part', '2', 'chang', 'view', 'matrix', 'human', 'peopl', 'one', 'start', 'war', 'ai', 'bad', 'thing']\n"
     ]
    }
   ],
   "source": [
    "from nltk.stem.porter import PorterStemmer\n",
    "\n",
    "# Reduce words to their stems\n",
    "stemmed = [PorterStemmer().stem(w) for w in words]\n",
    "print(stemmed)"
   ]
  },
  {
   "cell_type": "markdown",
   "metadata": {},
   "source": [
    "### Lemmatization"
   ]
  },
  {
   "cell_type": "code",
   "execution_count": 26,
   "metadata": {},
   "outputs": [
    {
     "name": "stdout",
     "output_type": "stream",
     "text": [
      "['first', 'time', 'see', 'second', 'renaissance', 'may', 'look', 'boring', 'look', 'least', 'twice', 'definitely', 'watch', 'part', '2', 'change', 'view', 'matrix', 'human', 'people', 'one', 'started', 'war', 'ai', 'bad', 'thing']\n"
     ]
    }
   ],
   "source": [
    "from nltk.stem.wordnet import WordNetLemmatizer\n",
    "\n",
    "# Reduce words to their root form\n",
    "lemmed = [WordNetLemmatizer().lemmatize(w) for w in words]\n",
    "print(lemmed)"
   ]
  },
  {
   "cell_type": "code",
   "execution_count": 27,
   "metadata": {},
   "outputs": [
    {
     "name": "stdout",
     "output_type": "stream",
     "text": [
      "['first', 'time', 'see', 'second', 'renaissance', 'may', 'look', 'bore', 'look', 'least', 'twice', 'definitely', 'watch', 'part', '2', 'change', 'view', 'matrix', 'human', 'people', 'one', 'start', 'war', 'ai', 'bad', 'thing']\n"
     ]
    }
   ],
   "source": [
    "# Lemmatize verbs by specifying pos\n",
    "lemmed = [WordNetLemmatizer().lemmatize(w, pos='v') for w in lemmed]\n",
    "print(lemmed)"
   ]
  }
 ],
 "metadata": {
  "kernelspec": {
   "display_name": "Python 3",
   "language": "python",
   "name": "python3"
  },
  "language_info": {
   "codemirror_mode": {
    "name": "ipython",
    "version": 3
   },
   "file_extension": ".py",
   "mimetype": "text/x-python",
   "name": "python",
   "nbconvert_exporter": "python",
   "pygments_lexer": "ipython3",
   "version": "3.6.9"
  }
 },
 "nbformat": 4,
 "nbformat_minor": 2
}
